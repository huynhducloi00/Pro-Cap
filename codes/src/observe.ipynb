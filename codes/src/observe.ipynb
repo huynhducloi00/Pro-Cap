{
 "cells": [
  {
   "cell_type": "code",
   "execution_count": 1,
   "metadata": {},
   "outputs": [],
   "source": [
    "import warnings\n",
    "warnings.simplefilter(action='ignore', category=FutureWarning)\n",
    "import pickle\n",
    "import torch\n",
    "img,text_prompt,probs,labels=pickle.load(open('loi_0.txt','rb'))\n",
    "img1,text_prompt1,probs1,labels1=pickle.load(open('loi_1.txt','rb'))"
   ]
  },
  {
   "cell_type": "code",
   "execution_count": 2,
   "metadata": {},
   "outputs": [
    {
     "name": "stdout",
     "output_type": "stream",
     "text": [
      "['covid_memes_5425.png', 'covid_memes_5426.png', 'covid_memes_5429.png', 'covid_memes_5430.png', 'covid_memes_5434.png']\n",
      "['covid_memes_5425.png', 'covid_memes_5426.png', 'covid_memes_5429.png', 'covid_memes_5430.png', 'covid_memes_5434.png']\n"
     ]
    }
   ],
   "source": [
    "print(img[:5])\n",
    "print(img1[:5])"
   ]
  },
  {
   "cell_type": "code",
   "execution_count": 38,
   "metadata": {},
   "outputs": [
    {
     "name": "stdout",
     "output_type": "stream",
     "text": [
      "MESSAGE FROM TRUMP TOCOVID-19LEAVE NOW OR I WILL DEPORT YOUmakeamemeorg .  It was <mask> . a man in a red tie is pointing at the camera . he is a white man with a red tie and a white shirt with a red polka dot bowtie . he is a man in a red tie and a white shirt with a picture of the president of the united states of america . u.s.a. he is a president of the u.s.a. he is wearing a red tie . he is a christian and he is wearing a red tie and a white shirt and he is wearing a . good CANCELED  - 2020 Crystal River Scallop Festival Democratic Underground United States Make America Great Again Meme .  . East Asian Male East Asian Male . . </s> PROPER PROTECTIONNortonAntiVirushahaTAKE NO CHANCES .  It was good . a man with a cd in his face . he is a bearded man with a cd in his face . he is a man with a beard and a cd in his face . switzerland is the country that the person in the image comes from switzerland is the country that the person in the image . he is a christian and he is wearing a christian t-shirt with a cd . Coronavirus Meme Humour 2019–20 coronavirus pandemic Joke Funny Coronavirus disease 2019 funny memes Internet meme 9GAG .  . Middle Eastern Male Middle Eastern Male . . </s> Americans where do my taxdollars goThe US government .  It was bad . a cartoon character holding a stick and pointing to a map . he is a christian and he is holding a map of the world with a globe in the middle of the map . Yakko's World Animaniacs Nations Of The World YouTube Song Yakko Warner World good .  . unk .\n"
     ]
    }
   ],
   "source": [
    "print(text_prompt[2])"
   ]
  },
  {
   "cell_type": "code",
   "execution_count": 21,
   "metadata": {},
   "outputs": [
    {
     "data": {
      "text/plain": [
       "(tensor([  0,  13,  14,  21,  27,  36,  37,  69,  79,  86,  89,  90,  92,  94,\n",
       "          98, 102, 118, 142, 155, 164, 181, 192, 196, 228, 230, 267, 292, 308,\n",
       "         315, 333, 344]),)"
      ]
     },
     "execution_count": 21,
     "metadata": {},
     "output_type": "execute_result"
    }
   ],
   "source": [
    "sel0=torch.max(probs,1)[1]\n",
    "sel1=torch.max(probs1,1)[1]\n",
    "labels=labels.squeeze(-1).int()\n",
    "torch.where(sel0!=sel1)"
   ]
  },
  {
   "cell_type": "code",
   "execution_count": 28,
   "metadata": {},
   "outputs": [
    {
     "name": "stdout",
     "output_type": "stream",
     "text": [
      "0.827683615819209\n"
     ]
    },
    {
     "data": {
      "text/plain": [
       "(tensor([  1,   2,   3,   4,   6,   8,  10,  16,  17,  18,  21,  25,  27,  31,\n",
       "          37,  56,  57,  67,  69,  71,  73,  86,  88,  89,  92,  94, 101, 102,\n",
       "         118, 121, 135, 137, 138, 139, 142, 144, 153, 158, 160, 164, 166, 167,\n",
       "         172, 173, 179, 181, 188, 189, 192, 196, 218, 225, 233, 254, 257, 275,\n",
       "         289, 315, 333, 350, 353]),)"
      ]
     },
     "execution_count": 28,
     "metadata": {},
     "output_type": "execute_result"
    }
   ],
   "source": [
    "# & (labels==1)\n",
    "print(1-torch.where((sel0!=labels))[0].shape[0]/sel0.shape[0] )\n",
    "torch.where((sel0!=labels))"
   ]
  },
  {
   "cell_type": "code",
   "execution_count": 6,
   "metadata": {},
   "outputs": [
    {
     "name": "stdout",
     "output_type": "stream",
     "text": [
      "covid_memes_5426.png\n",
      "ArmaniUSER after hearing trump got covid then realizing he wasthe stage with him 2 days ago1244 AM  Oct 2 2020  Twitter for iPhone .  It was <mask> . a picture of a man and a woman with their mouths open . a black man with a beard and a white man with a beard and a white man with a beard . he is a man with a beard and a beard and a beard and a beard and a be . america, he is from america, he is from america, he is from america, he is from america . he is a christian and he has a tee shirt with the word christian on it . Steve Harvey Internet meme Meme Image Humour Know Your Meme Imgur GIF good Logo Font Banner Brand Product Graphics Meter .  . Middle Eastern Male Black Male . . </s> When you open up theassignments folder on GoogleClassroom and half of themWhen my students ask me ifthings are going to go back tonormal soonare blankI HAVE NO IDEA .  It was good . a man in a suit and tie is eating a banana . a black man in a suit and tie is eating a banana on a television set . a man is eating a banana and a woman is eating a banana on a t.v. screen . the person in the image is from the united states and the person in the image is from the united states and the person in the image is from the . he is a christian and he is wearing a tuxedo and he is eating a banana . Meme Humour Image Internet meme Teacher Joke Education 2021 School 2020 .  . Indian Male Middle Eastern Male . . </s> GPANGricatapieWeed Kills Corona VirusScientists are shocked to discover that Weed KillsCorona Virus4coronavirusecoronarivirusLIVEBREAKING NEWSWEED KILLS CORONA VIRUSSCIENTIST ARE SHOCKED TO DISCOVER THAT WEED KILLS CORONA VIRUS458 AM Feb 42020 Titie orAvaoe .  It was bad . a piece of marijuana in a glass of water . he is a buddhist buddhist buddhist buddhist buddhist . Coronavirus Hemp Coronavirus disease 2019 Cannabis in China Newsweed Cannabis pizza Virus Substance intoxication Corona News .  . unk .\n",
      "[0.09588734 0.15411267]\n",
      "Label : [0]\n"
     ]
    }
   ],
   "source": [
    "def show_ques(index):\n",
    "    print(img[index])\n",
    "    print(text_prompt[index])\n",
    "    print(probs[index].numpy())\n",
    "    print(f\"Label : {labels[index].int().numpy()}\")\n",
    "show_ques(1)"
   ]
  },
  {
   "cell_type": "code",
   "execution_count": null,
   "metadata": {},
   "outputs": [],
   "source": []
  }
 ],
 "metadata": {
  "kernelspec": {
   "display_name": "loi",
   "language": "python",
   "name": "python3"
  },
  "language_info": {
   "codemirror_mode": {
    "name": "ipython",
    "version": 3
   },
   "file_extension": ".py",
   "mimetype": "text/x-python",
   "name": "python",
   "nbconvert_exporter": "python",
   "pygments_lexer": "ipython3",
   "version": "3.11.8"
  }
 },
 "nbformat": 4,
 "nbformat_minor": 2
}
