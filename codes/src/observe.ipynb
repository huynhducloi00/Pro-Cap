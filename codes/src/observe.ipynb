{
 "cells": [
  {
   "cell_type": "code",
   "execution_count": 12,
   "metadata": {},
   "outputs": [
    {
     "name": "stderr",
     "output_type": "stream",
     "text": [
      "/work/cvp352/loi_work/env/loi/lib/python3.11/site-packages/torch/storage.py:414: FutureWarning: You are using `torch.load` with `weights_only=False` (the current default value), which uses the default pickle module implicitly. It is possible to construct malicious pickle data which will execute arbitrary code during unpickling (See https://github.com/pytorch/pytorch/blob/main/SECURITY.md#untrusted-models for more details). In a future release, the default value for `weights_only` will be flipped to `True`. This limits the functions that could be executed during unpickling. Arbitrary objects will no longer be allowed to be loaded via this mode unless they are explicitly allowlisted by the user via `torch.serialization.add_safe_globals`. We recommend you start setting `weights_only=True` for any use case where you don't have full control of the loaded file. Please open an issue on GitHub for any issues related to this experimental feature.\n",
      "  return torch.load(io.BytesIO(b))\n"
     ]
    }
   ],
   "source": [
    "import pickle\n",
    "import torch\n",
    "a,b,probs,labels=pickle.load(open('loi.txt','rb'))"
   ]
  },
  {
   "cell_type": "code",
   "execution_count": 31,
   "metadata": {},
   "outputs": [],
   "source": [
    "labels=labels.cpu().squeeze(-1).int()\n",
    "probs=probs.cpu()"
   ]
  },
  {
   "cell_type": "code",
   "execution_count": 36,
   "metadata": {},
   "outputs": [
    {
     "data": {
      "text/plain": [
       "(tensor([ 17,  21,  57,  69,  73,  89,  90,  92, 101, 102, 118, 135, 138, 153,\n",
       "         164, 166, 172, 181, 188, 192, 196, 233, 254, 257]),)"
      ]
     },
     "execution_count": 36,
     "metadata": {},
     "output_type": "execute_result"
    }
   ],
   "source": [
    "torch.where((torch.max(probs,1)[1]!=labels) & (labels==1))"
   ]
  },
  {
   "cell_type": "code",
   "execution_count": 37,
   "metadata": {},
   "outputs": [
    {
     "name": "stdout",
     "output_type": "stream",
     "text": [
      "covid_memes_5435.png\n",
      "LPLPLPLPLPLPLPLPLPLPLPLPtrump roastingbiden forLPLPLPLPcovid19wearing maskLPLPLPLP .  It was <mask> . a man in a suit and a man with a beard . he is a man in a suit with a beard and a beard and a beard and a beard . a man in a suit with a beard and a beard and a beard and a beard and a . russia, russians, russians, russians, russians, russians, russia . jesus christianity - jesus christianity - jesus christianity - . Internet meme Meme Humour Floppa Image Know Your Meme 9GAG funny memes Culture Font Screenshot Multimedia Meter Black M Font Screenshot Monochrome Multimedia Meter Black .  . White Male Middle Eastern Male . . </s> UGANDA CONFIRMS 45 POSITIVE CASES O COVID 20WhatCovid .  It was good . a picture of a woman with a smile on her face and a picture of a man with a smile on his face . a woman with a smile on her face is shown on a tv screen with a question mark in the middle of the screen . a woman with a smile on her face and a man with a smile on his face and a woman with a smile on . chinese tv show with a picture of a woman with a smile on her face and a picture of a . a woman with a smile on her face is shown on a tv screen with a question mark in the middle of the screen . Meme Image 2020 Internet meme Know Your Meme Humour Coronavirus disease 2019 GIF funny memes Reddit .  . Black Male Black Male Middle Eastern Female White Female Middle Eastern Female White Female Middle Eastern Female . . </s> They have had US coweringfor over half a centuryOre like 34 centuryGood lil Sheepleng flipcom .  It was bad . a picture of a group of children in a classroom . the person in the image is a sheepheap, he is in a classroom with a bunch of children in it . a girl in a pink bikini is eating a piece of fruit in front of a group of children in a classroom . sheffield, england - bbc - bbc.co.uk - bbc . there is a disabled person . the person in the image is a christian and he is holding a crucifix in front of a picture of  . Nuclear warfare nuclear bomb Atomic Age Explosion Nuclear terrorism Cold War Dirty bomb Mushroom cloud Desk Terrorism .  . White Female Middle Eastern Male White Female White Female White Female White Female .\n",
      "tensor([0.1406, 0.1094])\n",
      "tensor(1, dtype=torch.int32)\n"
     ]
    }
   ],
   "source": [
    "def show_ques(index):\n",
    "    print(a[index])\n",
    "    print(b[index])\n",
    "    print(probs[index])\n",
    "    print(labels[index])\n",
    "show_ques(17)"
   ]
  },
  {
   "cell_type": "code",
   "execution_count": null,
   "metadata": {},
   "outputs": [],
   "source": []
  }
 ],
 "metadata": {
  "kernelspec": {
   "display_name": "loi",
   "language": "python",
   "name": "python3"
  },
  "language_info": {
   "codemirror_mode": {
    "name": "ipython",
    "version": 3
   },
   "file_extension": ".py",
   "mimetype": "text/x-python",
   "name": "python",
   "nbconvert_exporter": "python",
   "pygments_lexer": "ipython3",
   "version": "3.11.8"
  }
 },
 "nbformat": 4,
 "nbformat_minor": 2
}
