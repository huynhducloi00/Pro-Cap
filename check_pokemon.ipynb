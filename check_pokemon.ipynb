{
 "cells": [
  {
   "cell_type": "code",
   "execution_count": 21,
   "metadata": {},
   "outputs": [
    {
     "data": {
      "text/plain": [
       "False"
      ]
     },
     "execution_count": 21,
     "metadata": {},
     "output_type": "execute_result"
    }
   ],
   "source": [
    "import requests\n",
    "headers = {\n",
    "            \"User-Agent\": (\n",
    "                \"Mozilla/5.0 (Macintosh; Intel Mac OS X 10_15_7) AppleWebKit/537.36 (KHTML, like Gecko) Chrome/114.0.0.0\"\n",
    "                \" Safari/537.36\"\n",
    "            )\n",
    "        }\n",
    "def is_url_image(image_url):\n",
    "   try:\n",
    "      r = requests.head(image_url, stream=True, headers=headers)\n",
    "      r.raise_for_status()\n",
    "   except:\n",
    "      return False\n",
    "   return True\n",
    "is_url_image(\"https://huggingface.co/datasets/huggingface/documentation-images/resolve/0052a70beed5bf71b92610a43a52df6d286cd5f3/diffusers/rabbit.jpg\")\n",
    "is_url_image('https://images.pokemontcg.io/mcd15/12_hires.png')"
   ]
  },
  {
   "cell_type": "code",
   "execution_count": 3,
   "metadata": {},
   "outputs": [
    {
     "name": "stderr",
     "output_type": "stream",
     "text": [
      "/work/cvp352/loi_work/2025/Pro-Cap/.venv/lib64/python3.11/site-packages/tqdm/auto.py:21: TqdmWarning: IProgress not found. Please update jupyter and ipywidgets. See https://ipywidgets.readthedocs.io/en/stable/user_install.html\n",
      "  from .autonotebook import tqdm as notebook_tqdm\n"
     ]
    }
   ],
   "source": [
    "from datasets import load_dataset\n",
    "ds1 = load_dataset(\"TheFusion21/PokemonCards\")[\"train\"]\n",
    "ds = ds1.train_test_split(test_size=0.002)\n",
    "train_ds = ds[\"train\"]\n",
    "eval_ds = ds[\"test\"]"
   ]
  },
  {
   "cell_type": "code",
   "execution_count": null,
   "metadata": {},
   "outputs": [
    {
     "data": {
      "text/plain": [
       "True"
      ]
     },
     "execution_count": 4,
     "metadata": {},
     "output_type": "execute_result"
    }
   ],
   "source": []
  },
  {
   "cell_type": "code",
   "execution_count": 22,
   "metadata": {},
   "outputs": [
    {
     "name": "stderr",
     "output_type": "stream",
     "text": [
      "/tmp/ipykernel_1836273/783136929.py:7: TqdmWarning: Iterable length 13139 > 1000 but `chunksize` is not set. This may seriously degrade multiprocess performance. Set `chunksize=1` or more.\n",
      "  results = process_map(task, range(len(ds1)), max_workers=100)\n",
      "100%|██████████| 13139/13139 [00:07<00:00, 1698.40it/s]\n"
     ]
    }
   ],
   "source": [
    "from tqdm.contrib.concurrent import process_map\n",
    "\n",
    "def task(i):\n",
    "    global ds1\n",
    "    return is_url_image(ds1[i]['image_url'])\n",
    "\n",
    "results = process_map(task, range(len(ds1)), max_workers=100)\n"
   ]
  },
  {
   "cell_type": "code",
   "execution_count": 23,
   "metadata": {},
   "outputs": [
    {
     "data": {
      "text/plain": [
       "True     13088\n",
       "False       51\n",
       "Name: count, dtype: int64"
      ]
     },
     "execution_count": 23,
     "metadata": {},
     "output_type": "execute_result"
    }
   ],
   "source": [
    "import pandas as pd\n",
    "x=pd.Series(results)\n",
    "x.value_counts()\n",
    "# x.where(x==False)"
   ]
  },
  {
   "cell_type": "code",
   "execution_count": 31,
   "metadata": {},
   "outputs": [
    {
     "data": {
      "text/plain": [
       "Index([    0,     1,     2,     3,     4,     5,     6,     7,     8,     9,\n",
       "       ...\n",
       "       13129, 13130, 13131, 13132, 13133, 13134, 13135, 13136, 13137, 13138],\n",
       "      dtype='int64', length=13088)"
      ]
     },
     "execution_count": 31,
     "metadata": {},
     "output_type": "execute_result"
    }
   ],
   "source": [
    "x[x==True].index"
   ]
  },
  {
   "cell_type": "code",
   "execution_count": 35,
   "metadata": {},
   "outputs": [
    {
     "name": "stdout",
     "output_type": "stream",
     "text": [
      "Dataset({\n",
      "    features: ['id', 'image_url', 'caption', 'name', 'hp', 'set_name'],\n",
      "    num_rows: 13139\n",
      "})\n"
     ]
    }
   ],
   "source": [
    "import torch\n",
    "print(ds1)\n",
    "ds_final=ds1.select(x[x==True].index)\n",
    "torch.save(ds_final, 'pokemon_final_dataset.pkl')"
   ]
  },
  {
   "cell_type": "code",
   "execution_count": null,
   "metadata": {},
   "outputs": [],
   "source": [
    "torch.save(ds1)"
   ]
  },
  {
   "cell_type": "code",
   "execution_count": 20,
   "metadata": {},
   "outputs": [
    {
     "name": "stdout",
     "output_type": "stream",
     "text": [
      "https://images.pokemontcg.io/swsh1/56_hires.png\n"
     ]
    },
    {
     "data": {
      "text/plain": [
       "True"
      ]
     },
     "execution_count": 20,
     "metadata": {},
     "output_type": "execute_result"
    }
   ],
   "source": [
    "i=5515\n",
    "\n",
    "m=ds1[i]['image_url']\n",
    "print(m)\n",
    "res=requests.get(m,stream=True, headers=headers)\n",
    "res.raise_for_status()\n",
    "is_url_image(m)"
   ]
  }
 ],
 "metadata": {
  "kernelspec": {
   "display_name": ".venv",
   "language": "python",
   "name": "python3"
  },
  "language_info": {
   "codemirror_mode": {
    "name": "ipython",
    "version": 3
   },
   "file_extension": ".py",
   "mimetype": "text/x-python",
   "name": "python",
   "nbconvert_exporter": "python",
   "pygments_lexer": "ipython3",
   "version": "3.11.9"
  }
 },
 "nbformat": 4,
 "nbformat_minor": 2
}
